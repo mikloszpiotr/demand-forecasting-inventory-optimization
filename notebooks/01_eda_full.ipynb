{
 "cells": [
  {
   "cell_type": "markdown",
   "id": "b455a842",
   "metadata": {},
   "source": [
    "# 📊 Full Exploratory Data Analysis\n",
    "Complete analysis of historical sales data for demand forecasting."
   ]
  },
  {
   "cell_type": "code",
   "execution_count": null,
   "id": "4c444a30",
   "metadata": {},
   "outputs": [],
   "source": [
    "import pandas as pd\n",
    "import matplotlib.pyplot as plt\n",
    "import seaborn as sns\n",
    "sns.set(style='whitegrid')\n",
    "\n",
    "sales = pd.read_csv(\"../data/raw/sales_data.csv\", parse_dates=[\"date\"])\n",
    "product = pd.read_csv(\"../data/raw/product_master.csv\")\n",
    "calendar = pd.read_csv(\"../data/raw/calendar.csv\", parse_dates=[\"date\"])\n",
    "\n",
    "# Merge\n",
    "df = sales.merge(calendar, on=\"date\").merge(product, on=\"product_id\")\n",
    "df[\"is_promo\"] = df[\"is_promo\"].fillna(0)\n",
    "df[\"is_holiday\"] = df[\"is_holiday\"].fillna(0)\n",
    "df.head()"
   ]
  },
  {
   "cell_type": "markdown",
   "id": "e7e00146",
   "metadata": {},
   "source": [
    "## 🔍 Missing Values & Duplicates"
   ]
  },
  {
   "cell_type": "code",
   "execution_count": null,
   "id": "7126a513",
   "metadata": {},
   "outputs": [],
   "source": [
    "print(\"Missing values:\\n\", df.isnull().sum())\n",
    "print(\"Duplicates:\", df.duplicated().sum())"
   ]
  },
  {
   "cell_type": "markdown",
   "id": "2a88c4b1",
   "metadata": {},
   "source": [
    "## 📈 Daily and Weekly Sales Trends"
   ]
  },
  {
   "cell_type": "code",
   "execution_count": null,
   "id": "b7aa696a",
   "metadata": {},
   "outputs": [],
   "source": [
    "df.groupby(\"date\")[\"quantity_sold\"].sum().plot(figsize=(12,4), title=\"Daily Demand\")\n",
    "plt.ylabel(\"Quantity Sold\")\n",
    "plt.show()\n",
    "\n",
    "df.groupby(pd.Grouper(key=\"date\", freq=\"W\"))[\"quantity_sold\"].sum().plot(figsize=(12,4), title=\"Weekly Demand\")\n",
    "plt.ylabel(\"Quantity Sold\")\n",
    "plt.show()"
   ]
  },
  {
   "cell_type": "markdown",
   "id": "ff29693e",
   "metadata": {},
   "source": [
    "## 🛍️ Promo & Holiday Impact"
   ]
  },
  {
   "cell_type": "code",
   "execution_count": null,
   "id": "59afb0ac",
   "metadata": {},
   "outputs": [],
   "source": [
    "promo_mean = df.groupby(\"is_promo\")[\"quantity_sold\"].mean()\n",
    "holiday_mean = df.groupby(\"is_holiday\")[\"quantity_sold\"].mean()\n",
    "\n",
    "promo_mean.plot(kind=\"bar\", title=\"Promo vs Non-Promo Avg Sales\", figsize=(6,4))\n",
    "plt.xticks([0,1], [\"No Promo\", \"Promo\"])\n",
    "plt.ylabel(\"Avg Quantity Sold\")\n",
    "plt.show()\n",
    "\n",
    "holiday_mean.plot(kind=\"bar\", title=\"Holiday vs Non-Holiday Avg Sales\", figsize=(6,4))\n",
    "plt.xticks([0,1], [\"No Holiday\", \"Holiday\"])\n",
    "plt.ylabel(\"Avg Quantity Sold\")\n",
    "plt.show()"
   ]
  },
  {
   "cell_type": "markdown",
   "id": "2da7f2b3",
   "metadata": {},
   "source": [
    "## 🔝 Top-Selling Products"
   ]
  },
  {
   "cell_type": "code",
   "execution_count": null,
   "id": "d2a5ef9f",
   "metadata": {},
   "outputs": [],
   "source": [
    "df.groupby(\"product_id\")[\"quantity_sold\"].sum().sort_values(ascending=False).head(5).plot(kind=\"bar\", title=\"Top 5 Products\")\n",
    "plt.ylabel(\"Total Sales\")\n",
    "plt.show()"
   ]
  },
  {
   "cell_type": "markdown",
   "id": "e5acb04f",
   "metadata": {},
   "source": [
    "## 📅 Heatmap: Demand by Weekday & Month"
   ]
  },
  {
   "cell_type": "code",
   "execution_count": null,
   "id": "19cb9b4f",
   "metadata": {},
   "outputs": [],
   "source": [
    "df[\"weekday\"] = df[\"date\"].dt.day_name()\n",
    "df[\"month\"] = df[\"date\"].dt.month_name()\n",
    "\n",
    "pivot = df.pivot_table(index=\"weekday\", columns=\"month\", values=\"quantity_sold\", aggfunc=\"mean\")\n",
    "sns.heatmap(pivot, cmap=\"YlGnBu\")\n",
    "plt.title(\"Avg Quantity Sold by Weekday & Month\")\n",
    "plt.show()"
   ]
  }
 ],
 "metadata": {},
 "nbformat": 4,
 "nbformat_minor": 5
}
